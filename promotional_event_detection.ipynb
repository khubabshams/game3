{
 "cells": [
  {
   "cell_type": "markdown",
   "id": "01bc88db",
   "metadata": {},
   "source": [
    "# Promotional Event Detection"
   ]
  },
  {
   "cell_type": "code",
   "execution_count": 2,
   "id": "fd729221",
   "metadata": {},
   "outputs": [],
   "source": [
    "# Import required modules (matplotlib and seaborn need to be installed for first time)\n",
    "import matplotlib.pyplot as plt # Matplotlib is a comprehensive library for creating static, animated, and interactive visualizations in Python\n",
    "import numpy as np # NumPy offers comprehensive mathematical functions, random number generators, linear algebra routines, Fourier transforms, and more\n",
    "import pandas as pd # Pandas is a fast, powerful, flexible and easy to use open source data analysis and manipulation tool\n",
    "import seaborn as sns # Seaborn is a Python data visualization library based on matplotlib. It provides a high-level interface for drawing attractive and informative statistical graphics\n",
    "import scipy.stats as st # SciPy provides algorithms for optimization, integration, interpolation, eigenvalue problems, algebraic equations, differential equations, statistics and many other classes of problems\n",
    "%matplotlib inline\n",
    "# When using the 'inline' backend, your matplotlib graphs will be included in your notebook, next to the code"
   ]
  },
  {
   "cell_type": "code",
   "execution_count": 3,
   "id": "7aea4419",
   "metadata": {
    "scrolled": true
   },
   "outputs": [
    {
     "data": {
      "text/html": [
       "<div>\n",
       "<style scoped>\n",
       "    .dataframe tbody tr th:only-of-type {\n",
       "        vertical-align: middle;\n",
       "    }\n",
       "\n",
       "    .dataframe tbody tr th {\n",
       "        vertical-align: top;\n",
       "    }\n",
       "\n",
       "    .dataframe thead th {\n",
       "        text-align: right;\n",
       "    }\n",
       "</style>\n",
       "<table border=\"1\" class=\"dataframe\">\n",
       "  <thead>\n",
       "    <tr style=\"text-align: right;\">\n",
       "      <th></th>\n",
       "      <th>CUSTOMER</th>\n",
       "      <th>PRODOTTO</th>\n",
       "      <th>YW</th>\n",
       "      <th>START_DATE</th>\n",
       "      <th>END_DATE</th>\n",
       "      <th>PriceUnits</th>\n",
       "      <th>PriceVolume</th>\n",
       "      <th>Units</th>\n",
       "      <th>Volume</th>\n",
       "      <th>Value</th>\n",
       "      <th>WD</th>\n",
       "    </tr>\n",
       "  </thead>\n",
       "  <tbody>\n",
       "    <tr>\n",
       "      <th>0</th>\n",
       "      <td>Customer A</td>\n",
       "      <td>BABY DRY DUO DWCT</td>\n",
       "      <td>2018-05</td>\n",
       "      <td>43129</td>\n",
       "      <td>43135</td>\n",
       "      <td>11.900000</td>\n",
       "      <td>56.000000</td>\n",
       "      <td>136</td>\n",
       "      <td>28.9</td>\n",
       "      <td>1618.4</td>\n",
       "      <td>9</td>\n",
       "    </tr>\n",
       "    <tr>\n",
       "      <th>1</th>\n",
       "      <td>Customer A</td>\n",
       "      <td>BABY DRY DUO DWCT</td>\n",
       "      <td>2018-06</td>\n",
       "      <td>43136</td>\n",
       "      <td>43142</td>\n",
       "      <td>9.086016</td>\n",
       "      <td>46.537869</td>\n",
       "      <td>8717</td>\n",
       "      <td>1701.9</td>\n",
       "      <td>79202.8</td>\n",
       "      <td>93</td>\n",
       "    </tr>\n",
       "    <tr>\n",
       "      <th>2</th>\n",
       "      <td>Customer A</td>\n",
       "      <td>BABY DRY DUO DWCT</td>\n",
       "      <td>2018-07</td>\n",
       "      <td>43143</td>\n",
       "      <td>43149</td>\n",
       "      <td>9.118637</td>\n",
       "      <td>46.978016</td>\n",
       "      <td>13264</td>\n",
       "      <td>2574.6</td>\n",
       "      <td>120949.6</td>\n",
       "      <td>99</td>\n",
       "    </tr>\n",
       "    <tr>\n",
       "      <th>3</th>\n",
       "      <td>Customer A</td>\n",
       "      <td>BABY DRY DUO DWCT</td>\n",
       "      <td>2018-08</td>\n",
       "      <td>43150</td>\n",
       "      <td>43156</td>\n",
       "      <td>9.191366</td>\n",
       "      <td>47.439744</td>\n",
       "      <td>10493</td>\n",
       "      <td>2033.0</td>\n",
       "      <td>96445.0</td>\n",
       "      <td>98</td>\n",
       "    </tr>\n",
       "    <tr>\n",
       "      <th>4</th>\n",
       "      <td>Customer A</td>\n",
       "      <td>BABY DRY DUO DWCT</td>\n",
       "      <td>2018-09</td>\n",
       "      <td>43157</td>\n",
       "      <td>43163</td>\n",
       "      <td>10.450014</td>\n",
       "      <td>53.784368</td>\n",
       "      <td>3523</td>\n",
       "      <td>684.5</td>\n",
       "      <td>36815.4</td>\n",
       "      <td>94</td>\n",
       "    </tr>\n",
       "  </tbody>\n",
       "</table>\n",
       "</div>"
      ],
      "text/plain": [
       "     CUSTOMER           PRODOTTO       YW  START_DATE  END_DATE  PriceUnits  \\\n",
       "0  Customer A  BABY DRY DUO DWCT  2018-05       43129     43135   11.900000   \n",
       "1  Customer A  BABY DRY DUO DWCT  2018-06       43136     43142    9.086016   \n",
       "2  Customer A  BABY DRY DUO DWCT  2018-07       43143     43149    9.118637   \n",
       "3  Customer A  BABY DRY DUO DWCT  2018-08       43150     43156    9.191366   \n",
       "4  Customer A  BABY DRY DUO DWCT  2018-09       43157     43163   10.450014   \n",
       "\n",
       "   PriceVolume  Units  Volume     Value  WD  \n",
       "0    56.000000    136    28.9    1618.4   9  \n",
       "1    46.537869   8717  1701.9   79202.8  93  \n",
       "2    46.978016  13264  2574.6  120949.6  99  \n",
       "3    47.439744  10493  2033.0   96445.0  98  \n",
       "4    53.784368   3523   684.5   36815.4  94  "
      ]
     },
     "execution_count": 3,
     "metadata": {},
     "output_type": "execute_result"
    }
   ],
   "source": [
    "# Read the dataset file and load dataframe 'df'\n",
    "dataset_file_path = r'Cripted_DB_Promo_detection.csv' # 'r' is for raw string\n",
    "df = pd.read_csv(dataset_file_path, sep=';', decimal=',') # We use ';' as a separator because it's a semi-colon separated, should be ',' for comma separated\n",
    "df.head() # Shows first rows of our dataframe"
   ]
  },
  {
   "cell_type": "code",
   "execution_count": 4,
   "id": "db69eede",
   "metadata": {},
   "outputs": [],
   "source": [
    "# Data cleaning and drop null value rows\n",
    "df.isnull().sum() # number of null rows in different columns (series)\n",
    "df.shape # shape of our dataframe (row, column): (31242, 11)\n",
    "df.dropna(how='any').shape # shape if we drop any null value row: (31239, 11)\n",
    "df.dropna(how='any', inplace=True) # Using inplace will actually drop null values rows from our dataframe\n",
    "# df.dropna(how='any', subset=['PriceVolume']) * We could do this either, because null values are in the PriceVolume Series"
   ]
  },
  {
   "cell_type": "code",
   "execution_count": 5,
   "id": "9b996b9b",
   "metadata": {},
   "outputs": [
    {
     "data": {
      "text/plain": [
       "<AxesSubplot:>"
      ]
     },
     "execution_count": 5,
     "metadata": {},
     "output_type": "execute_result"
    },
    {
     "data": {
      "image/png": "[encoded data removed]",
      "text/plain": [
       "<Figure size 432x288 with 2 Axes>"
      ]
     },
     "metadata": {
      "needs_background": "light"
     },
     "output_type": "display_data"
    }
   ],
   "source": [
    "sns.heatmap(df.corr()) # correlation heatmap\n",
    "# df.corr()  # correlation table with values\n",
    "# np.corrcoef(df['Units'], df['Volume'])\n",
    "# st.pearsonr(df['Units'], df['PriceUnits'])\n",
    "# sns.regplot(data=df, x='Units', y='PriceUnits')\n",
    "sssssssss"
   ]
  },
  {
   "cell_type": "markdown",
   "id": "6d9ca1cc",
   "metadata": {},
   "source": [
    " # 1- Correlation Analysis\n"
   ]
  },
  {
   "cell_type": "code",
   "execution_count": null,
   "id": "0dd9e790",
   "metadata": {},
   "outputs": [],
   "source": []
  },
  {
   "cell_type": "code",
   "execution_count": null,
   "id": "918c76cd",
   "metadata": {},
   "outputs": [],
   "source": []
  },
  {
   "cell_type": "code",
   "execution_count": null,
   "id": "46146e59",
   "metadata": {},
   "outputs": [],
   "source": []
  }
 ],
 "metadata": {
  "kernelspec": {
   "display_name": "Python 3 (ipykernel)",
   "language": "python",
   "name": "python3"
  },
  "language_info": {
   "codemirror_mode": {
    "name": "ipython",
    "version": 3
   },
   "file_extension": ".py",
   "mimetype": "text/x-python",
   "name": "python",
   "nbconvert_exporter": "python",
   "pygments_lexer": "ipython3",
   "version": "3.10.2"
  }
 },
 "nbformat": 4,
 "nbformat_minor": 5
}
